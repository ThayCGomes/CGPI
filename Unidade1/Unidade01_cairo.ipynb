{
  "nbformat": 4,
  "nbformat_minor": 0,
  "metadata": {
    "colab": {
      "provenance": []
    },
    "kernelspec": {
      "name": "python3",
      "display_name": "Python 3"
    },
    "language_info": {
      "name": "python"
    }
  },
  "cells": [
    {
      "cell_type": "code",
      "source": [
        "import cairo\n",
        "from IPython.display import Image, display\n",
        "from math import pi\n",
        "from io import BytesIO\n",
        "\n",
        "\n",
        "def disp(draw_func):\n",
        "    surface = cairo.ImageSurface(cairo.FORMAT_ARGB32, 200, 200)\n",
        "    ctx = cairo.Context(surface)\n",
        "    draw_func(ctx, 200, 200)\n",
        "    with BytesIO() as fileobj:\n",
        "        surface.write_to_png(fileobj)\n",
        "        display(Image(fileobj.getvalue(), width=200))"
      ],
      "metadata": {
        "id": "n0TEkK6me8wB"
      },
      "execution_count": 107,
      "outputs": []
    },
    {
      "cell_type": "code",
      "source": [
        "\n",
        "@disp\n",
        "def draw(cr, width, height):\n",
        "  cr.scale(100, 100)\n",
        "  cr.set_line_width(0.05)\n",
        "  cr.move_to(0.2, 0.2)\n",
        "  cr.line_to(0.6, 0.8)\n",
        "  cr.set_source_rgba(0, 0, 0,0.3)\n",
        "  cr.stroke()"
      ],
      "metadata": {
        "colab": {
          "base_uri": "https://localhost:8080/",
          "height": 217
        },
        "id": "dxRmBG0dlo4W",
        "outputId": "b25aa1d2-fdbc-4aba-b0ef-8e5edae4981f"
      },
      "execution_count": 204,
      "outputs": [
        {
          "output_type": "display_data",
          "data": {
            "image/png": "[encoded data removed]",
            "text/plain": [
              "<IPython.core.display.Image object>"
            ]
          },
          "metadata": {
            "image/png": {
              "width": 200
            }
          }
        }
      ]
    },
    {
      "cell_type": "code",
      "source": [
        "@disp\n",
        "def draw(cr, width, height):\n",
        "    cr.scale(width, height)\n",
        "    cr.set_line_width(0.05)\n",
        "\n",
        "    x, y = 0.1, 0.5\n",
        "    x1, y1 = 0.4, 0.9\n",
        "    x2, y2 = 0.6, 0.1\n",
        "    x3, y3 = 0.9, 0.5\n",
        "\n",
        "    cr.move_to(x, y)\n",
        "    cr.curve_to(x1, y1, x2, y2, x3, y3)\n",
        "\n",
        "    cr.stroke()\n",
        "\n",
        "    cr.set_source_rgba(1, 0, 0, 0.6)\n",
        "    cr.set_line_width(0.05)\n",
        "    cr.move_to(x, y)\n",
        "    cr.line_to(x1, y1)\n",
        "\n",
        "    cr.stroke()"
      ],
      "metadata": {
        "colab": {
          "base_uri": "https://localhost:8080/",
          "height": 217
        },
        "id": "wFOBXRzUf4Rh",
        "outputId": "587bf4ad-b723-4ae0-b655-4424f7e2ed9c"
      },
      "execution_count": 136,
      "outputs": [
        {
          "output_type": "display_data",
          "data": {
            "image/png": "[encoded data removed]",
            "text/plain": [
              "<IPython.core.display.Image object>"
            ]
          },
          "metadata": {
            "image/png": {
              "width": 200
            }
          }
        }
      ]
    },
    {
      "cell_type": "code",
      "source": [
        "@disp\n",
        "def draw(cr, width, height):\n",
        "    cr.scale(width, height) # eg1\n",
        "    cr.stroke()\n",
        "    cr.set_line_cap(cairo.LINE_CAP_ROUND)\n",
        "    cr.set_line_width(0.12)\n",
        "    cr.move_to(0.5, 0.5)\n",
        "    cr.line_to(0.5, 0.5)\n",
        "\n",
        "    cr.stroke() #eg1\n",
        "    xc=0.3\n",
        "    yc=0.7\n",
        "    cr.arc(xc, yc, 0.05, 0, 2 * pi)\n",
        "    cr.fill()\n"
      ],
      "metadata": {
        "colab": {
          "base_uri": "https://localhost:8080/",
          "height": 217
        },
        "id": "kYk327zfiJ7P",
        "outputId": "32cdd606-9472-4dbd-ef1b-a7491ae53599"
      },
      "execution_count": 151,
      "outputs": [
        {
          "output_type": "display_data",
          "data": {
            "image/png": "[encoded data removed]",
            "text/plain": [
              "<IPython.core.display.Image object>"
            ]
          },
          "metadata": {
            "image/png": {
              "width": 200
            }
          }
        }
      ]
    },
    {
      "cell_type": "code",
      "source": [
        "@disp\n",
        "def draw(cr, width, height):\n",
        "    cr.scale(width, height)\n",
        "    cr.set_line_width(0.05)\n",
        "\n",
        "    cr.arc(0.5, 0.5, 0.3, 0, 2 * pi)\n",
        "    cr.clip()\n",
        "\n",
        "    cr.rectangle(0, 0, 1, 1)\n",
        "    cr.fill()\n",
        "    cr.set_source_rgb(0, 1, 0)\n",
        "    cr.move_to(0, 0)\n",
        "    cr.line_to(1, 1)\n",
        "    cr.move_to(1, 0)\n",
        "    cr.line_to(0, 1)\n",
        "    cr.stroke()"
      ],
      "metadata": {
        "colab": {
          "base_uri": "https://localhost:8080/",
          "height": 217
        },
        "id": "LYPPVgWhfFiN",
        "outputId": "4b333bcc-e538-4b92-c9da-5d5b3e7e3bf7"
      },
      "execution_count": 110,
      "outputs": [
        {
          "output_type": "display_data",
          "data": {
            "image/png": "[encoded data removed]",
            "text/plain": [
              "<IPython.core.display.Image object>"
            ]
          },
          "metadata": {
            "image/png": {
              "width": 200
            }
          }
        }
      ]
    },
    {
      "cell_type": "code",
      "source": [],
      "metadata": {
        "id": "NV73Y8lUnuEL"
      },
      "execution_count": null,
      "outputs": []
    }
  ]
}